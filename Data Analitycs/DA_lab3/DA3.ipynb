{
 "cells": [
  {
   "cell_type": "code",
   "execution_count": 1,
   "metadata": {},
   "outputs": [],
   "source": [
    "import pystan\n",
    "import arviz as az\n",
    "import matplotlib.pyplot as plt\n",
    "import matplotlib as mpl\n",
    "import numpy as np\n",
    "import scipy.stats as stats\n",
    "import seaborn as sns\n",
    "import pandas as pd"
   ]
  },
  {
   "cell_type": "markdown",
   "metadata": {},
   "source": [
    "<h1>Part 1:</h1>\n",
    "<h3>Gamma distributions</h3>\n",
    "\n",
    "I've generated 3 instances of gamma distribution, each with different scale and shape parameters:"
   ]
  },
  {
   "cell_type": "code",
   "execution_count": 2,
   "metadata": {},
   "outputs": [],
   "source": [
    "gammas = {\n",
    "    \"gamma1\":np.random.gamma(scale=5,shape=5,size=5000),\n",
    "    \"gamma2\":np.random.gamma(scale=5,shape=10,size=5000),\n",
    "    \"gamma3\":np.random.gamma(scale=10,shape=5,size=5000),\n",
    "}"
   ]
  },
  {
   "cell_type": "markdown",
   "metadata": {},
   "source": [
    "I've converted the dictionary to pandas dataframe, melted it and created seaborn facetgrid to plot the histograms:"
   ]
  },
  {
   "cell_type": "code",
   "execution_count": 3,
   "metadata": {},
   "outputs": [],
   "source": [
    "df = pd.DataFrame.from_dict(gammas)\n",
    "df_melted = pd.melt(df, var_name='variant', value_name='value')"
   ]
  },
  {
   "cell_type": "code",
   "execution_count": 4,
   "metadata": {},
   "outputs": [
    {
     "data": {
      "text/plain": [
       "<seaborn.axisgrid.FacetGrid at 0x23be2d43948>"
      ]
     },
     "execution_count": 4,
     "metadata": {},
     "output_type": "execute_result"
    },
    {
     "data": {
      "image/png": "[encoded data removed]",
      "text/plain": [
       "<Figure size 648x216 with 3 Axes>"
      ]
     },
     "metadata": {
      "needs_background": "light"
     },
     "output_type": "display_data"
    }
   ],
   "source": [
    "g = sns.FacetGrid(df_melted, col=\"variant\", sharex=True, sharey=True)\n",
    "g.map(plt.hist, \"value\", cumulative=False, bins=128)"
   ]
  },
  {
   "cell_type": "markdown",
   "metadata": {},
   "source": [
    "Histograms allowed me to draw some conclusions: The scale parameter scales stretches the distribution, so that occurence of higher values is noticed. The shape parameter influences the steepness of the distribution."
   ]
  },
  {
   "cell_type": "markdown",
   "metadata": {},
   "source": [
    "I've generated 3 instances of inverse gamma distribution, each with different scale and shape parameters:"
   ]
  },
  {
   "cell_type": "code",
   "execution_count": 5,
   "metadata": {},
   "outputs": [],
   "source": [
    "inv_gammas = {\n",
    "    \"invgamma1\":stats.invgamma.rvs(a=5,scale=5,size=5000),\n",
    "    \"invgamma2\":stats.invgamma.rvs(a=5,scale=10,size=5000),\n",
    "    \"invgamma3\":stats.invgamma.rvs(a=10,scale=5,size=5000)\n",
    "}"
   ]
  },
  {
   "cell_type": "code",
   "execution_count": 6,
   "metadata": {},
   "outputs": [],
   "source": [
    "df_inv = pd.DataFrame.from_dict(inv_gammas)\n",
    "df_inv_melt = pd.melt(df_inv, var_name='variant', value_name='value')"
   ]
  },
  {
   "cell_type": "code",
   "execution_count": 7,
   "metadata": {},
   "outputs": [
    {
     "data": {
      "text/plain": [
       "<seaborn.axisgrid.FacetGrid at 0x23be4592088>"
      ]
     },
     "execution_count": 7,
     "metadata": {},
     "output_type": "execute_result"
    },
    {
     "data": {
      "image/png": "[encoded data removed]",
      "text/plain": [
       "<Figure size 648x216 with 3 Axes>"
      ]
     },
     "metadata": {
      "needs_background": "light"
     },
     "output_type": "display_data"
    }
   ],
   "source": [
    "g = sns.FacetGrid(df_inv_melt, col=\"variant\", sharex=True, sharey=True)\n",
    "g.map(plt.hist, \"value\", cumulative=False, bins=128)"
   ]
  },
  {
   "cell_type": "markdown",
   "metadata": {},
   "source": [
    "<h4>Conclusions:</h4>\n",
    "\n",
    "The a parameter (shape) influences the distribution similarly to the way the shape parameter influences histogram in gamma distribution - the higher a parameter is, the broader and less steep the histogram is.\n",
    "\n",
    "As for scale parameter, it influences the height of the histogram, but also its width - similarly as in gamma distribution. The higher the scale, the smaller distribution (shape is similar)."
   ]
  },
  {
   "cell_type": "markdown",
   "metadata": {},
   "source": [
    "<h4>Gamma distribution with Stan </h4>\n",
    "The task of finding parameters for gamma distribution, for which 98% probability lies between 5 and 10 needed a predefined stan file, which is included in the repository as well. I used the algebra_solver."
   ]
  },
  {
   "cell_type": "code",
   "execution_count": 8,
   "metadata": {},
   "outputs": [
    {
     "name": "stdout",
     "output_type": "stream",
     "text": [
      "functions {\n",
      "  vector tail_delta(vector y, vector theta, real[] x_r, int[] x_i) {\n",
      "    vector[2] deltas;\n",
      "    deltas[1] = gamma_cdf(theta[1], y[1], y[2]) - 0.01;\n",
      "    deltas[2] = gamma_cdf(theta[2], y[1], y[2]) - 0.99;\n",
      "    return deltas;\n",
      "  }\n",
      "}\n",
      "data {\n",
      "  vector<lower=0>[2] y_guess;\n",
      "  vector<lower=0>[2] theta;\n",
      "}\n",
      "transformed data {\n",
      "  vector[2] y;\n",
      "  real x_r[0];\n",
      "  int x_i[0];\n",
      "  y = algebra_solver(tail_delta, y_guess, theta, x_r, x_i,1e-10,1e-1,1e6);\n",
      "}\n",
      "generated quantities {\n",
      "  real alpha = y[1];\n",
      "  real beta = y[2];\n",
      "}\n"
     ]
    }
   ],
   "source": [
    "with open('gamma.stan','r') as file:\n",
    "    print(file.read())"
   ]
  },
  {
   "cell_type": "markdown",
   "metadata": {},
   "source": [
    "I've complited the model using stan:"
   ]
  },
  {
   "cell_type": "code",
   "execution_count": 9,
   "metadata": {},
   "outputs": [
    {
     "name": "stderr",
     "output_type": "stream",
     "text": [
      "INFO:pystan:COMPILING THE C++ CODE FOR MODEL anon_model_46207c379a6b7bdb88777cc967fe21b7 NOW.\n"
     ]
    }
   ],
   "source": [
    "model = pystan.StanModel('gamma.stan')"
   ]
  },
  {
   "cell_type": "markdown",
   "metadata": {},
   "source": [
    "I've decided to start the model with alpha = 5 and beta = 1. The important thing is that theta interval is <5,10>. It provides assurance, that 98% (due to stan file) of ditribution will be placed in this interval."
   ]
  },
  {
   "cell_type": "code",
   "execution_count": 10,
   "metadata": {},
   "outputs": [
    {
     "name": "stdout",
     "output_type": "stream",
     "text": [
      "Alpha:\t46.0\n",
      "Beta:\t6.0\n"
     ]
    }
   ],
   "source": [
    "data = dict(y_guess=np.array([5,1]),theta=np.array([5,10]))\n",
    "tuned_data = model.sampling(data=data, seed=1052020, algorithm=\"Fixed_param\",iter=1,chains=1)\n",
    "\n",
    "alpha = np.round(tuned_data.extract()['alpha'][0])\n",
    "beta = np.round(tuned_data.extract()['beta'][0])\n",
    "\n",
    "print('Alpha:\\t'+str(alpha)+'\\nBeta:\\t'+str(beta))"
   ]
  },
  {
   "cell_type": "markdown",
   "metadata": {},
   "source": [
    "To check the result, I've drawn the histogram using these two as parameters:"
   ]
  },
  {
   "cell_type": "code",
   "execution_count": 11,
   "metadata": {},
   "outputs": [
    {
     "data": {
      "image/png": "[encoded data removed]",
      "text/plain": [
       "<Figure size 432x288 with 1 Axes>"
      ]
     },
     "metadata": {
      "needs_background": "light"
     },
     "output_type": "display_data"
    }
   ],
   "source": [
    "gamma_result = np.random.gamma(shape=alpha, scale=1/beta,size=5000)\n",
    "plt.hist(gamma_result, bins = 128, density=True)\n",
    "plt.plot([5,5],[0,0.4],color='black')\n",
    "plt.plot([10,10],[0,0.4],color='black')\n",
    "plt.ylim([0,0.4])\n",
    "plt.show()"
   ]
  },
  {
   "cell_type": "markdown",
   "metadata": {},
   "source": [
    "The histogram look as expected. Around 90% of distrubution is between 5 and 10."
   ]
  },
  {
   "cell_type": "markdown",
   "metadata": {},
   "source": [
    "<h4>Inv Gamma distribution with Stan</h4>\n",
    "\n",
    "I've done the same example with inv gamma distribution, to see, if stan model again proves useful. 98% percent of dist. must be contained in <5,10>.\n",
    "\n",
    "I've created following stan file:"
   ]
  },
  {
   "cell_type": "code",
   "execution_count": 12,
   "metadata": {},
   "outputs": [
    {
     "name": "stdout",
     "output_type": "stream",
     "text": [
      "functions {\n",
      "  vector tail_delta(vector y, vector theta, real[] x_r, int[] x_i) {\n",
      "    vector[2] deltas;\n",
      "    deltas[1] = inv_gamma_cdf(theta[1], y[1], y[2]) - 0.01;\n",
      "    deltas[2] = inv_gamma_cdf(theta[2], y[1], y[2]) - 0.99;\n",
      "    return deltas;\n",
      "  }\n",
      "}\n",
      "data {\n",
      "  vector<lower=0>[2] y_guess;\n",
      "  vector<lower=0>[2] theta;\n",
      "}\n",
      "transformed data {\n",
      "  vector[2] y;\n",
      "  real x_r[0];\n",
      "  int x_i[0];\n",
      "  y = algebra_solver(tail_delta, y_guess, theta, x_r, x_i,1e-10,1e-1,1e6);\n",
      "}\n",
      "generated quantities {\n",
      "  real alpha = y[1];\n",
      "  real beta = y[2];\n",
      "}\n"
     ]
    }
   ],
   "source": [
    "with open('inv_gamma.stan','r') as file:\n",
    "    print(file.read())"
   ]
  },
  {
   "cell_type": "code",
   "execution_count": 13,
   "metadata": {},
   "outputs": [
    {
     "name": "stderr",
     "output_type": "stream",
     "text": [
      "INFO:pystan:COMPILING THE C++ CODE FOR MODEL anon_model_9b490040c27276226da8ab310175f4cc NOW.\n"
     ]
    }
   ],
   "source": [
    "model = pystan.StanModel('inv_gamma.stan')"
   ]
  },
  {
   "cell_type": "code",
   "execution_count": 14,
   "metadata": {},
   "outputs": [
    {
     "name": "stdout",
     "output_type": "stream",
     "text": [
      "Alpha:\t62.0\n",
      "Beta:\t399.0\n"
     ]
    }
   ],
   "source": [
    "data = dict(y_guess=np.array([0.5,0.4]),theta=np.array([5,10]))\n",
    "tuned_data = model.sampling(data=data, seed=1052020, algorithm=\"Fixed_param\",iter=1,chains=1)\n",
    "\n",
    "alpha = np.round(tuned_data.extract()['alpha'][0])\n",
    "beta = np.round(tuned_data.extract()['beta'][0])\n",
    "\n",
    "print('Alpha:\\t'+str(alpha)+'\\nBeta:\\t'+str(beta))"
   ]
  },
  {
   "cell_type": "markdown",
   "metadata": {},
   "source": [
    "Once again, I've drawn histogram to see, if the result is correct."
   ]
  },
  {
   "cell_type": "code",
   "execution_count": 15,
   "metadata": {},
   "outputs": [
    {
     "data": {
      "image/png": "[encoded data removed]",
      "text/plain": [
       "<Figure size 432x288 with 1 Axes>"
      ]
     },
     "metadata": {
      "needs_background": "light"
     },
     "output_type": "display_data"
    }
   ],
   "source": [
    "inv_gamma_result = stats.invgamma.rvs(a=alpha, scale=beta,size=5000)\n",
    "plt.hist(inv_gamma_result, bins = 128, density=True)\n",
    "plt.plot([5,5],[0,0.6],color='black')\n",
    "plt.plot([10,10],[0,0.6],color='black')\n",
    "plt.ylim([0,0.6])\n",
    "plt.show()"
   ]
  },
  {
   "cell_type": "markdown",
   "metadata": {},
   "source": [
    "It looks, that the result is one again correct. It's safe to assume, that 98% of the distribution is between 5 and 10."
   ]
  },
  {
   "cell_type": "markdown",
   "metadata": {},
   "source": [
    "<h1>Part 2:</h1>\n",
    "<h3>Negative binomial distribution</h3>\n",
    "\n",
    "I used one stan file to generate only one model containing all three required distributions:\n",
    "* negative binomial distribution;\n",
    "* negative binomial distribution with alternate params;\n",
    "* poisson distribution with tje same mean;"
   ]
  },
  {
   "cell_type": "code",
   "execution_count": 16,
   "metadata": {},
   "outputs": [
    {
     "name": "stdout",
     "output_type": "stream",
     "text": [
      "data {\n",
      "  real<lower=0> alpha;\n",
      "  real<lower=0> beta;\n",
      "  real<lower=0> micro;\n",
      "  real<lower=0> phi;\n",
      "  real<lower=0> lam;\n",
      "}\n",
      "\n",
      "generated quantities {\n",
      "  int<lower=0> y1;\n",
      "  int<lower=0> y2;\n",
      "  int<lower=0> y3;\n",
      "  y1 = neg_binomial_rng(alpha,beta);\n",
      "  y2 = neg_binomial_2_rng(micro,phi);\n",
      "  y3 = poisson_rng(lam);\n",
      "}\n"
     ]
    }
   ],
   "source": [
    "with open('negative_binomial.stan','r') as file:\n",
    "    print(file.read())"
   ]
  },
  {
   "cell_type": "code",
   "execution_count": 17,
   "metadata": {},
   "outputs": [
    {
     "name": "stderr",
     "output_type": "stream",
     "text": [
      "INFO:pystan:COMPILING THE C++ CODE FOR MODEL anon_model_3a8a7da7275019368437ff6252867c61 NOW.\n"
     ]
    }
   ],
   "source": [
    "model = pystan.StanModel('negative_binomial.stan')"
   ]
  },
  {
   "cell_type": "code",
   "execution_count": 18,
   "metadata": {},
   "outputs": [
    {
     "name": "stderr",
     "output_type": "stream",
     "text": [
      "WARNING:pystan:`warmup=0` forced with `algorithm=\"Fixed_param\"`.\n"
     ]
    },
    {
     "name": "stdout",
     "output_type": "stream",
     "text": [
      "Mean values:\n",
      "Binomial dist.:\t\t\t4.919\n",
      "Binomial dist.(alternative):\t5.032\n",
      "Poisson dist.:\t\t\t5.041\n"
     ]
    }
   ],
   "source": [
    "data = dict(alpha=5,beta=1,micro=5,phi=5,lam=5)\n",
    "\n",
    "data_tuned = model.sampling(data=data, seed=1052020, algorithm=\"Fixed_param\",iter=500)\n",
    "\n",
    "y1 = data_tuned.extract()['y1']\n",
    "y2 = data_tuned.extract()['y2']\n",
    "y3 = data_tuned.extract()['y3']\n",
    "\n",
    "mean_y1 = np.mean(y1)\n",
    "mean_y2 = np.mean(y2)\n",
    "mean_y3 = np.mean(y3)\n",
    "\n",
    "print(\"Mean values:\")\n",
    "print(\"Binomial dist.:\\t\\t\\t\"+str(mean_y1))\n",
    "print(\"Binomial dist.(alternative):\\t\"+str(mean_y2))\n",
    "print(\"Poisson dist.:\\t\\t\\t\"+str(mean_y3))"
   ]
  },
  {
   "cell_type": "markdown",
   "metadata": {},
   "source": [
    "All the mean are very similar. What could be disturbing, is that alternative parametrisation provides mean closer to tje Poisson dist., not to the negative binomial one.\n",
    "\n",
    "I've plotted all the distributions on one histogram, visible below, to see the shape of each one:"
   ]
  },
  {
   "cell_type": "code",
   "execution_count": 19,
   "metadata": {},
   "outputs": [
    {
     "data": {
      "text/plain": [
       "<seaborn.axisgrid.FacetGrid at 0x23be57af188>"
      ]
     },
     "execution_count": 19,
     "metadata": {},
     "output_type": "execute_result"
    },
    {
     "data": {
      "image/png": "[encoded data removed]",
      "text/plain": [
       "<Figure size 648x216 with 3 Axes>"
      ]
     },
     "metadata": {
      "needs_background": "light"
     },
     "output_type": "display_data"
    }
   ],
   "source": [
    "y = pd.DataFrame(data={\"Negative binomial\":y1,\"Neg. bin. (alt.)\":y2,\"Poisson\":y3})\n",
    "y = pd.melt(y,var_name='Distribution',value_name='value')\n",
    "\n",
    "g = sns.FacetGrid(y,col='Distribution',sharex=True,sharey=True)\n",
    "g.map(plt.hist,'value',cumulative=False,bins=64)"
   ]
  },
  {
   "cell_type": "markdown",
   "metadata": {},
   "source": [
    "Drawing those histograms was quite useful. Now we can see, that even though Poisson and 2nd variant of neg. bin. distributions have closer means, their shapes are quite different, and so, both negative binomial distributions are very close, when it comes to their shape."
   ]
  },
  {
   "cell_type": "markdown",
   "metadata": {},
   "source": [
    "<h1>Part 3:</h1>\n",
    "<h3>Student-t distribution</h3>\n",
    "\n",
    "The stan file I've created to get the Stan model running is presemted below:"
   ]
  },
  {
   "cell_type": "code",
   "execution_count": 20,
   "metadata": {},
   "outputs": [
    {
     "name": "stdout",
     "output_type": "stream",
     "text": [
      "data {\n",
      "  int<lower=0> num;\n",
      "  real<lower=0> NU;\n",
      "  real MU[num];\n",
      "  real<lower=0> sigma[num];\n",
      "}\n",
      "\n",
      "parameters {\n",
      "  real y[num];\n",
      "}\n",
      "\n",
      "model {\n",
      "  y ~ student_t(NU,MU,sigma);\n",
      "}\n"
     ]
    }
   ],
   "source": [
    "with open('student_t.stan','r') as file:\n",
    "    print(file.read())"
   ]
  },
  {
   "cell_type": "code",
   "execution_count": 21,
   "metadata": {},
   "outputs": [
    {
     "name": "stderr",
     "output_type": "stream",
     "text": [
      "INFO:pystan:COMPILING THE C++ CODE FOR MODEL anon_model_8c868da2c44a40f2d48fd1b6e23b8769 NOW.\n"
     ]
    }
   ],
   "source": [
    "model = pystan.StanModel('student_t.stan')"
   ]
  },
  {
   "cell_type": "markdown",
   "metadata": {},
   "source": [
    "I've created four different variants of parameters to check on the histograms, which are attached below, along with the usage of previously creatd Stan model.\n",
    "\n",
    "The values are:\n",
    "    * NU = 2; MU = 0; sigma = 1;\n",
    "    * NU = 2; MU = 0; sigma = 5;\n",
    "    * NU = 2; MU = 5; sigma = 1;\n",
    "    * NU = 2; MU = 5; sigma = 5;"
   ]
  },
  {
   "cell_type": "code",
   "execution_count": 22,
   "metadata": {},
   "outputs": [],
   "source": [
    "num = 4;\n",
    "nu = 2;\n",
    "mu = np.array([0,0,5,5])\n",
    "sigma = np.array([1,5,1,5])\n",
    "\n",
    "data=dict(num=num, NU=nu, MU=mu, sigma=sigma)\n",
    "\n",
    "data_tuned = model.sampling(data=data, seed=1052020, iter=1000,chains=1)\n",
    "\n",
    "y = data_tuned.extract()['y']"
   ]
  },
  {
   "cell_type": "code",
   "execution_count": 23,
   "metadata": {},
   "outputs": [
    {
     "data": {
      "image/png": "[encoded data removed]",
      "text/plain": [
       "<Figure size 864x216 with 4 Axes>"
      ]
     },
     "metadata": {
      "needs_background": "light"
     },
     "output_type": "display_data"
    }
   ],
   "source": [
    "y = pd.DataFrame(y)\n",
    "y = pd.melt(y, var_name='y',value_name='value')\n",
    "\n",
    "g = sns.FacetGrid(y,col='y',sharex=True,sharey=True)\n",
    "g.map(plt.hist,'value',bins=64)\n",
    "plt.show()"
   ]
  },
  {
   "cell_type": "markdown",
   "metadata": {},
   "source": [
    "The sigma value changes the shape of the distribution - the higher the sigma, the wider distribution is."
   ]
  },
  {
   "cell_type": "markdown",
   "metadata": {},
   "source": [
    "Then, I've checked how number of iterations influences the distribution:"
   ]
  },
  {
   "cell_type": "code",
   "execution_count": 24,
   "metadata": {},
   "outputs": [
    {
     "name": "stderr",
     "output_type": "stream",
     "text": [
      "INFO:pystan:COMPILING THE C++ CODE FOR MODEL anon_model_520c0367c1658eb642b5c8429c48368d NOW.\n"
     ]
    }
   ],
   "source": [
    "model = pystan.StanModel('student_t_2.stan')"
   ]
  },
  {
   "cell_type": "code",
   "execution_count": 25,
   "metadata": {},
   "outputs": [
    {
     "name": "stderr",
     "output_type": "stream",
     "text": [
      "WARNING:pystan:Rhat above 1.1 or below 0.9 indicates that the chains very likely have not mixed\n"
     ]
    },
    {
     "data": {
      "image/png": "[encoded data removed]",
      "text/plain": [
       "<Figure size 432x288 with 1 Axes>"
      ]
     },
     "metadata": {
      "needs_background": "light"
     },
     "output_type": "display_data"
    },
    {
     "data": {
      "image/png": "[encoded data removed]",
      "text/plain": [
       "<Figure size 432x288 with 1 Axes>"
      ]
     },
     "metadata": {
      "needs_background": "light"
     },
     "output_type": "display_data"
    },
    {
     "data": {
      "image/png": "[encoded data removed]",
      "text/plain": [
       "<Figure size 432x288 with 1 Axes>"
      ]
     },
     "metadata": {
      "needs_background": "light"
     },
     "output_type": "display_data"
    }
   ],
   "source": [
    "iterations = [100,1000,10000]\n",
    "data = dict(NU=2, MU=0, sigma=1)\n",
    "\n",
    "for i in iterations:\n",
    "    data_tuned = model.sampling(data=data,iter=i,chains=1,seed=1052020)\n",
    "    y = data_tuned.extract()['y']\n",
    "    plt.figure()\n",
    "    plt.hist(y, bins=64)\n",
    "    mean = np.round(np.mean(y),2)\n",
    "    variance = np.round(np.var(y),2)\n",
    "    plt.title(\"Mean: \"+ str(mean) + \" Variance: \" + str(variance))\n",
    "    plt.xlim(-15,15)"
   ]
  },
  {
   "cell_type": "markdown",
   "metadata": {},
   "source": [
    "100 iterations wasn't enough to get correct values and the correct shape of histogram.\n",
    "1000 iterations is ok, but only with aproximation.\n",
    "10000 iterations result is not much better result as it takes 10 times more iterations."
   ]
  },
  {
   "cell_type": "markdown",
   "metadata": {},
   "source": [
    "I've used student-t distrubution with specific set of parameters to get Cauchy distribution:"
   ]
  },
  {
   "cell_type": "code",
   "execution_count": 26,
   "metadata": {},
   "outputs": [
    {
     "data": {
      "image/png": "[encoded data removed]",
      "text/plain": [
       "<Figure size 432x288 with 1 Axes>"
      ]
     },
     "metadata": {
      "needs_background": "light"
     },
     "output_type": "display_data"
    }
   ],
   "source": [
    "data = dict(NU=1,MU=0,sigma=1)\n",
    "data_tuned = model.sampling(data=data,iter=1000,chains=1,seed=1052020)\n",
    "\n",
    "y = data_tuned.extract()['y']\n",
    "plt.hist(y,bins=64)\n",
    "plt.show()"
   ]
  },
  {
   "cell_type": "markdown",
   "metadata": {},
   "source": [
    "<h1>Part 4:</h1>\n",
    "<h3>Multirative normal distributions</h3>\n",
    "\n",
    "I've used the stan file presented below to generate model and get all neccessary histograms:"
   ]
  },
  {
   "cell_type": "code",
   "execution_count": 27,
   "metadata": {},
   "outputs": [
    {
     "name": "stdout",
     "output_type": "stream",
     "text": [
      "data {\n",
      "  int<lower=0> dim;\n",
      "  vector[dim] MU;\n",
      "  matrix[dim,dim] sigma;\n",
      "}\n",
      "\n",
      "parameters {\n",
      "  vector[dim] y;\n",
      "}\n",
      "\n",
      "model {\n",
      "  y ~ multi_normal(MU,sigma);\n",
      "}\n"
     ]
    }
   ],
   "source": [
    "with open('multirative_normal.stan') as file:\n",
    "    print(file.read())"
   ]
  },
  {
   "cell_type": "code",
   "execution_count": 28,
   "metadata": {},
   "outputs": [
    {
     "name": "stderr",
     "output_type": "stream",
     "text": [
      "INFO:pystan:COMPILING THE C++ CODE FOR MODEL anon_model_eb222ba08cf5c8a18dd250b1dded7fd3 NOW.\n"
     ]
    }
   ],
   "source": [
    "model = pystan.StanModel('multirative_normal.stan')"
   ]
  },
  {
   "cell_type": "markdown",
   "metadata": {},
   "source": [
    "I've created function, that allow me to get the covariance from correltion matrix and the other way:"
   ]
  },
  {
   "cell_type": "code",
   "execution_count": 29,
   "metadata": {},
   "outputs": [],
   "source": [
    "def cov2cor(cov):\n",
    "    v = np.sqrt(np.diag(cov))\n",
    "    v_outer = np.outer(v,v)\n",
    "    cor = cov/v_outer\n",
    "    cor[cov==0]=0\n",
    "    return cor\n",
    "\n",
    "def cor2cov(cor,std_dev):\n",
    "    std_dev_outer = np.outer(std_dev,std_dev)\n",
    "    cov = std_dev_outer*cor\n",
    "    return cov"
   ]
  },
  {
   "cell_type": "markdown",
   "metadata": {},
   "source": [
    "I've used them to generate random input data for model, to observe it's behaviour:"
   ]
  },
  {
   "cell_type": "code",
   "execution_count": 30,
   "metadata": {},
   "outputs": [
    {
     "name": "stdout",
     "output_type": "stream",
     "text": [
      "[[ 1.   4.9]\n",
      " [ 4.9 49. ]]\n"
     ]
    }
   ],
   "source": [
    "cor_matrix = [(1,0.7),(0.7,1)]\n",
    "std_dev = [1,7]\n",
    "cov_matrix = cor2cov(cor_matrix,std_dev)\n",
    "print(cov_matrix)"
   ]
  },
  {
   "cell_type": "code",
   "execution_count": 31,
   "metadata": {},
   "outputs": [],
   "source": [
    "data = dict(dim=2, MU=[0, 7], sigma=cov_matrix)\n",
    "data_tuned = model.sampling(data=data, iter=5000,seed=1052020)"
   ]
  },
  {
   "cell_type": "code",
   "execution_count": 32,
   "metadata": {},
   "outputs": [
    {
     "data": {
      "image/png": "[encoded data removed]",
      "text/plain": [
       "<Figure size 432x288 with 1 Axes>"
      ]
     },
     "metadata": {
      "needs_background": "light"
     },
     "output_type": "display_data"
    }
   ],
   "source": [
    "y = data_tuned.extract()['y']\n",
    "plt.hist(y, bins=512)\n",
    "plt.show()"
   ]
  },
  {
   "cell_type": "markdown",
   "metadata": {},
   "source": [
    "In 2D it looks like this:"
   ]
  },
  {
   "cell_type": "code",
   "execution_count": 33,
   "metadata": {},
   "outputs": [
    {
     "data": {
      "image/png": "[encoded data removed]",
      "text/plain": [
       "<Figure size 432x288 with 1 Axes>"
      ]
     },
     "metadata": {
      "needs_background": "light"
     },
     "output_type": "display_data"
    }
   ],
   "source": [
    "plt.hist2d(y[:,0],y[:,1],bins=64)\n",
    "plt.show()"
   ]
  },
  {
   "cell_type": "markdown",
   "metadata": {},
   "source": [
    "To do the same in 3D, I needed to change the model and it's parameters as below:"
   ]
  },
  {
   "cell_type": "code",
   "execution_count": 34,
   "metadata": {},
   "outputs": [],
   "source": [
    "cor_matrix = [(1,0.7,0.7),(0.7,1,0.7),(0.7,0.7,1)]\n",
    "std_dev = [1,4,7]\n",
    "cov_matrix = cor2cov(cor_matrix,std_dev)"
   ]
  },
  {
   "cell_type": "code",
   "execution_count": 35,
   "metadata": {},
   "outputs": [],
   "source": [
    "data = dict(dim=3, MU=[0,3,7], sigma=cov_matrix)\n",
    "data_tuned = model.sampling(data=data, iter=5000,seed=1052020)"
   ]
  },
  {
   "cell_type": "code",
   "execution_count": 36,
   "metadata": {},
   "outputs": [
    {
     "data": {
      "image/png": "[encoded data removed]",
      "text/plain": [
       "<Figure size 432x288 with 1 Axes>"
      ]
     },
     "metadata": {
      "needs_background": "light"
     },
     "output_type": "display_data"
    }
   ],
   "source": [
    "y = data_tuned.extract()['y']\n",
    "plt.hist(y, bins=512)\n",
    "plt.show()"
   ]
  },
  {
   "cell_type": "markdown",
   "metadata": {},
   "source": [
    "And, finally, 4D analisys:"
   ]
  },
  {
   "cell_type": "code",
   "execution_count": 37,
   "metadata": {},
   "outputs": [],
   "source": [
    "cor_matrix = [(1,0.7,0.7,0.7),(0.7,1,0.7,0.7),(0.7,0.7,1,0.7),(0.7,0.7,0.7,1)]\n",
    "std_dev = [1,2,5,7]\n",
    "cov_matrix = cor2cov(cor_matrix,std_dev)"
   ]
  },
  {
   "cell_type": "code",
   "execution_count": 38,
   "metadata": {},
   "outputs": [],
   "source": [
    "data = dict(dim=4, MU=[0,2,5,7], sigma=cov_matrix)\n",
    "data_tuned = model.sampling(data=data, iter=5000,seed=1052020)"
   ]
  },
  {
   "cell_type": "code",
   "execution_count": 39,
   "metadata": {},
   "outputs": [
    {
     "data": {
      "image/png": "[encoded data removed]",
      "text/plain": [
       "<Figure size 432x288 with 1 Axes>"
      ]
     },
     "metadata": {
      "needs_background": "light"
     },
     "output_type": "display_data"
    }
   ],
   "source": [
    "y = data_tuned.extract()['y']\n",
    "plt.hist(y, bins=512)\n",
    "plt.show()"
   ]
  },
  {
   "cell_type": "markdown",
   "metadata": {},
   "source": [
    "<h2>Conclusions:</h2>\n",
    "\n",
    "Stan allows to generate multiple models for various distribution types. Immensity of parameters gives an oppourtunity to customize these distributions dependently of its type. '.stan' files use simple structure to generate models from practically text files."
   ]
  }
 ],
 "metadata": {
  "kernelspec": {
   "display_name": "Python 3",
   "language": "python",
   "name": "python3"
  },
  "language_info": {
   "codemirror_mode": {
    "name": "ipython",
    "version": 3
   },
   "file_extension": ".py",
   "mimetype": "text/x-python",
   "name": "python",
   "nbconvert_exporter": "python",
   "pygments_lexer": "ipython3",
   "version": "3.7.4"
  }
 },
 "nbformat": 4,
 "nbformat_minor": 2
}
