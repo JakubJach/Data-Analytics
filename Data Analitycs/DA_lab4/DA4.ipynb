{
 "cells": [
  {
   "cell_type": "code",
   "execution_count": 1,
   "metadata": {},
   "outputs": [],
   "source": [
    "import pandas as pd\n",
    "import numpy as np\n",
    "import pystan\n",
    "import matplotlib.pyplot as plt\n",
    "import scipy.stats as stats\n",
    "import arviz as az"
   ]
  },
  {
   "cell_type": "code",
   "execution_count": 2,
   "metadata": {},
   "outputs": [
    {
     "data": {
      "text/html": [
       "<div>\n",
       "<style scoped>\n",
       "    .dataframe tbody tr th:only-of-type {\n",
       "        vertical-align: middle;\n",
       "    }\n",
       "\n",
       "    .dataframe tbody tr th {\n",
       "        vertical-align: top;\n",
       "    }\n",
       "\n",
       "    .dataframe thead th {\n",
       "        text-align: right;\n",
       "    }\n",
       "</style>\n",
       "<table border=\"1\" class=\"dataframe\">\n",
       "  <thead>\n",
       "    <tr style=\"text-align: right;\">\n",
       "      <th></th>\n",
       "      <th>Year</th>\n",
       "      <th>Fatal accidents</th>\n",
       "      <th>Passenger deaths</th>\n",
       "      <th>Death rate</th>\n",
       "      <th>Miles flown [100 mln miles]</th>\n",
       "    </tr>\n",
       "  </thead>\n",
       "  <tbody>\n",
       "    <tr>\n",
       "      <td>0</td>\n",
       "      <td>1976</td>\n",
       "      <td>24</td>\n",
       "      <td>734</td>\n",
       "      <td>0.19</td>\n",
       "      <td>3863</td>\n",
       "    </tr>\n",
       "    <tr>\n",
       "      <td>1</td>\n",
       "      <td>1977</td>\n",
       "      <td>25</td>\n",
       "      <td>516</td>\n",
       "      <td>0.12</td>\n",
       "      <td>4300</td>\n",
       "    </tr>\n",
       "    <tr>\n",
       "      <td>2</td>\n",
       "      <td>1978</td>\n",
       "      <td>31</td>\n",
       "      <td>754</td>\n",
       "      <td>0.15</td>\n",
       "      <td>5027</td>\n",
       "    </tr>\n",
       "    <tr>\n",
       "      <td>3</td>\n",
       "      <td>1979</td>\n",
       "      <td>31</td>\n",
       "      <td>877</td>\n",
       "      <td>0.16</td>\n",
       "      <td>5481</td>\n",
       "    </tr>\n",
       "    <tr>\n",
       "      <td>4</td>\n",
       "      <td>1980</td>\n",
       "      <td>22</td>\n",
       "      <td>814</td>\n",
       "      <td>0.14</td>\n",
       "      <td>5814</td>\n",
       "    </tr>\n",
       "    <tr>\n",
       "      <td>5</td>\n",
       "      <td>1981</td>\n",
       "      <td>21</td>\n",
       "      <td>362</td>\n",
       "      <td>0.06</td>\n",
       "      <td>6033</td>\n",
       "    </tr>\n",
       "    <tr>\n",
       "      <td>6</td>\n",
       "      <td>1982</td>\n",
       "      <td>26</td>\n",
       "      <td>764</td>\n",
       "      <td>0.13</td>\n",
       "      <td>5877</td>\n",
       "    </tr>\n",
       "    <tr>\n",
       "      <td>7</td>\n",
       "      <td>1983</td>\n",
       "      <td>20</td>\n",
       "      <td>809</td>\n",
       "      <td>0.13</td>\n",
       "      <td>6223</td>\n",
       "    </tr>\n",
       "    <tr>\n",
       "      <td>8</td>\n",
       "      <td>1984</td>\n",
       "      <td>16</td>\n",
       "      <td>223</td>\n",
       "      <td>0.03</td>\n",
       "      <td>7433</td>\n",
       "    </tr>\n",
       "    <tr>\n",
       "      <td>9</td>\n",
       "      <td>1985</td>\n",
       "      <td>22</td>\n",
       "      <td>1066</td>\n",
       "      <td>0.15</td>\n",
       "      <td>7107</td>\n",
       "    </tr>\n",
       "  </tbody>\n",
       "</table>\n",
       "</div>"
      ],
      "text/plain": [
       "   Year  Fatal accidents  Passenger deaths  Death rate  \\\n",
       "0  1976               24               734        0.19   \n",
       "1  1977               25               516        0.12   \n",
       "2  1978               31               754        0.15   \n",
       "3  1979               31               877        0.16   \n",
       "4  1980               22               814        0.14   \n",
       "5  1981               21               362        0.06   \n",
       "6  1982               26               764        0.13   \n",
       "7  1983               20               809        0.13   \n",
       "8  1984               16               223        0.03   \n",
       "9  1985               22              1066        0.15   \n",
       "\n",
       "   Miles flown [100 mln miles]  \n",
       "0                         3863  \n",
       "1                         4300  \n",
       "2                         5027  \n",
       "3                         5481  \n",
       "4                         5814  \n",
       "5                         6033  \n",
       "6                         5877  \n",
       "7                         6223  \n",
       "8                         7433  \n",
       "9                         7107  "
      ]
     },
     "execution_count": 2,
     "metadata": {},
     "output_type": "execute_result"
    }
   ],
   "source": [
    "df = pd.read_csv(r'fatal_accidents.csv')\n",
    "df"
   ]
  },
  {
   "cell_type": "markdown",
   "metadata": {},
   "source": [
    "<h1>Exercise 1:</h1>\n",
    "\n",
    "This is the case, when the rate is constant and independent for all the year.\n",
    "\n",
    "I've created stan file to get the model, in which 98% (as in previous exercise - I don't know, if it's the good asumption, but it's a start) of the distribution is in range <minimum deaths, maximum deaths> - in this case <223,1066>."
   ]
  },
  {
   "cell_type": "code",
   "execution_count": 3,
   "metadata": {},
   "outputs": [
    {
     "name": "stdout",
     "output_type": "stream",
     "text": [
      "functions {\n",
      "  vector tail_delta(vector y,\n",
      "                    vector theta,\n",
      "                    real[] x_r,\n",
      "                    int[] x_i) {\n",
      "    vector[2] deltas;\n",
      "\n",
      "    deltas[1] = normal_cdf(theta[1], y[1], y[2]) - 0.99;\n",
      "    deltas[2] = normal_cdf(theta[2], y[1], y[2]) - 0.01;\n",
      "    return deltas;\n",
      "  }\n",
      "}\n",
      "\n",
      "data {\n",
      "  vector<lower=0>[2] y_guess;\n",
      "  vector<lower=0>[2] theta;\n",
      "}\n",
      "\n",
      "transformed data {\n",
      "  vector[2] y;\n",
      "  real x_r[0];\n",
      "  int x_i[0];\n",
      "\n",
      "  y = algebra_solver(tail_delta, y_guess, theta, x_r, x_i);\n",
      "  print(\"loc  = \", y[1]);\n",
      "  print(\"scale = \", y[2]);\n",
      "}\n",
      "\n",
      "generated quantities {\n",
      "  real loc = y[1];\n",
      "  real scale = y[2];\n",
      "}\n"
     ]
    }
   ],
   "source": [
    "with open('Tune_4_1_1.stan','r') as file:\n",
    "    print(file.read())"
   ]
  },
  {
   "cell_type": "markdown",
   "metadata": {},
   "source": [
    "I've run model using stan, tuned the sampling and extracted two output parameters - loc and scale."
   ]
  },
  {
   "cell_type": "code",
   "execution_count": 4,
   "metadata": {},
   "outputs": [
    {
     "name": "stderr",
     "output_type": "stream",
     "text": [
      "INFO:pystan:COMPILING THE C++ CODE FOR MODEL anon_model_a150d842f36d5ed84746f1777fd72d1f NOW.\n"
     ]
    }
   ],
   "source": [
    "model = pystan.StanModel('Tune_4_1_1.stan')"
   ]
  },
  {
   "cell_type": "code",
   "execution_count": 5,
   "metadata": {},
   "outputs": [],
   "source": [
    "data = dict(y_guess=np.array([670,200]),theta=np.array([1066,223]))"
   ]
  },
  {
   "cell_type": "code",
   "execution_count": 6,
   "metadata": {},
   "outputs": [],
   "source": [
    "data_tuned = model.sampling(data=data, seed=1052020, algorithm=\"Fixed_param\", iter=1, warmup=0, chains=1)"
   ]
  },
  {
   "cell_type": "code",
   "execution_count": 7,
   "metadata": {},
   "outputs": [
    {
     "name": "stdout",
     "output_type": "stream",
     "text": [
      "644.0 181.0\n"
     ]
    }
   ],
   "source": [
    "loc = np.round(data_tuned.extract()['loc'][0])\n",
    "scale = np.round(data_tuned.extract()['scale'][0])\n",
    "\n",
    "print(loc, scale)"
   ]
  },
  {
   "cell_type": "markdown",
   "metadata": {},
   "source": [
    "I've used those two parameters to plot Poisson distribution."
   ]
  },
  {
   "cell_type": "code",
   "execution_count": 8,
   "metadata": {},
   "outputs": [
    {
     "data": {
      "image/png": "[encoded data removed]",
      "text/plain": [
       "<Figure size 504x288 with 1 Axes>"
      ]
     },
     "metadata": {
      "needs_background": "light"
     },
     "output_type": "display_data"
    }
   ],
   "source": [
    "fig, ax1 = plt.subplots(1,1,figsize=(7,4))\n",
    "x1 = np.linspace(0,6*scale,1000)\n",
    "x2 = np.linspace(200,1100,1000)\n",
    "ax1.plot(x1,stats.norm.pdf(x1,loc=loc,scale=scale),color=\"#449944\")\n",
    "ax1.fill_between(x2,stats.norm.pdf(x2,loc=loc,scale=scale),0,color=\"#009900\")\n",
    "ax1.set_yticks([])\n",
    "ax1.set_xticks([0,223,1066])\n",
    "plt.show()"
   ]
  },
  {
   "cell_type": "markdown",
   "metadata": {},
   "source": [
    "<h3>Prior predictive distribution</h3>\n",
    "\n",
    "The goal of this part was to simulate possible parameters based just on the prior info. I've created another stan file to generate model and extract parameters."
   ]
  },
  {
   "cell_type": "code",
   "execution_count": 9,
   "metadata": {},
   "outputs": [
    {
     "name": "stdout",
     "output_type": "stream",
     "text": [
      "data {\n",
      "  int Years;\n",
      "}\n",
      "\n",
      "generated quantities {\n",
      "  real lambda = normal_rng(644,181);\n",
      "  int y_sim[Years];\n",
      "  for (i in 1:Years) {\n",
      "    y_sim[i] = poisson_rng(lambda);\n",
      "  }\n",
      "}\n"
     ]
    }
   ],
   "source": [
    "with open('Tune_4_1_2.stan','r') as file:\n",
    "    print(file.read())"
   ]
  },
  {
   "cell_type": "code",
   "execution_count": 10,
   "metadata": {},
   "outputs": [
    {
     "name": "stderr",
     "output_type": "stream",
     "text": [
      "INFO:pystan:COMPILING THE C++ CODE FOR MODEL anon_model_8bcf9732782a30f5efd081bac8f646f7 NOW.\n"
     ]
    }
   ],
   "source": [
    "model = pystan.StanModel('Tune_4_1_2.stan')"
   ]
  },
  {
   "cell_type": "code",
   "execution_count": 11,
   "metadata": {},
   "outputs": [],
   "source": [
    "data_tuned = model.sampling(data={'Years':1}, algorithm=\"Fixed_param\",iter=500, warmup=0, chains=1,seed=1052020)\n",
    "\n",
    "lam = data_tuned.extract()['lambda']\n",
    "y_sim = data_tuned.extract()['y_sim']"
   ]
  },
  {
   "cell_type": "markdown",
   "metadata": {},
   "source": [
    "I've ploted the result below. Estimation is far from ideal, but it could be expected - creating accurate prior is very difficult."
   ]
  },
  {
   "cell_type": "code",
   "execution_count": 12,
   "metadata": {},
   "outputs": [
    {
     "data": {
      "image/png": "[encoded data removed]",
      "text/plain": [
       "<Figure size 504x288 with 1 Axes>"
      ]
     },
     "metadata": {
      "needs_background": "light"
     },
     "output_type": "display_data"
    }
   ],
   "source": [
    "fig, ax2 = plt.subplots(1,1,figsize=(7,4))\n",
    "\n",
    "ax2.hist(lam,bins=50,color=\"#009900\",edgecolor=\"#44FF44\",density=True)\n",
    "x = np.linspace(0,1500,2000)\n",
    "ax2.set_xticks([0,223,1066])\n",
    "ax2.set_yticks([])\n",
    "ax2.plot(x,stats.norm.pdf(x,loc,scale),color='black', linestyle='-')\n",
    "\n",
    "plt.show()"
   ]
  },
  {
   "cell_type": "markdown",
   "metadata": {},
   "source": [
    "<h3>Posterior interference and posterior predictive checks</h3>\n",
    "\n",
    "Another time, I've used stan file to get the neccessary info from the stan model."
   ]
  },
  {
   "cell_type": "code",
   "execution_count": 13,
   "metadata": {},
   "outputs": [
    {
     "name": "stdout",
     "output_type": "stream",
     "text": [
      "data {\n",
      "  int Years;\n",
      "  int Deaths[Years];\n",
      "}\n",
      "parameters {\n",
      "  real<lower=0> lambda;\n",
      "}\n",
      "model {\n",
      "  lambda ~ normal(644,181);\n",
      "  for (i in 1:Years) {\n",
      "    Deaths[i] ~ poisson(lambda);\n",
      "  }\n",
      "}\n",
      "generated quantities {\n",
      "  int y_sim[Years];\n",
      "  for (i in 1:Years) {\n",
      "    y_sim[i] = poisson_rng(lambda);\n",
      "  }\n",
      "}\n"
     ]
    }
   ],
   "source": [
    "with open('Tune_4_1_3.stan','r') as file:\n",
    "    print(file.read())"
   ]
  },
  {
   "cell_type": "code",
   "execution_count": 14,
   "metadata": {},
   "outputs": [
    {
     "name": "stderr",
     "output_type": "stream",
     "text": [
      "INFO:pystan:COMPILING THE C++ CODE FOR MODEL anon_model_92775d8e4a1ba7db0ed0fb4e182aee79 NOW.\n"
     ]
    }
   ],
   "source": [
    "model = pystan.StanModel('Tune_4_1_3.stan')"
   ]
  },
  {
   "cell_type": "code",
   "execution_count": 15,
   "metadata": {},
   "outputs": [],
   "source": [
    "data = dict(Years = len(df), Deaths = df['Passenger deaths'])\n",
    "data_tuned = model.sampling(data=data, seed=1052020)\n",
    "\n",
    "lam = data_tuned.extract()['lambda']\n",
    "y_sim = data_tuned.extract()['y_sim']"
   ]
  },
  {
   "cell_type": "markdown",
   "metadata": {},
   "source": [
    "I've calculated the mean of posterior intrefrence along with 90% confidence interval limit values."
   ]
  },
  {
   "cell_type": "code",
   "execution_count": 16,
   "metadata": {},
   "outputs": [],
   "source": [
    "mean_lambda = np.mean(lam)\n",
    "cinf_lambda = az.hpd(lam,0.9)\n",
    "\n",
    "hpd_width= cinf_lambda[1]-cinf_lambda[0]"
   ]
  },
  {
   "cell_type": "code",
   "execution_count": 17,
   "metadata": {},
   "outputs": [
    {
     "name": "stdout",
     "output_type": "stream",
     "text": [
      "Mean lambda:\t692.0416166194061\n",
      "90% conf. interval:\t[679.2454280192097\t706.1549302421664]\n"
     ]
    }
   ],
   "source": [
    "print(\"Mean lambda:\\t\" + str(mean_lambda))\n",
    "print(\"90% conf. interval:\\t[\" + str(cinf_lambda[0]) + '\\t'+ str(cinf_lambda[1]) + ']')"
   ]
  },
  {
   "cell_type": "markdown",
   "metadata": {},
   "source": [
    "I've created a histogram presetnig the lambda value changes, also marking the 90% conf. interval, which I've calculated before."
   ]
  },
  {
   "cell_type": "code",
   "execution_count": 23,
   "metadata": {},
   "outputs": [
    {
     "data": {
      "image/png": "[encoded data removed]",
      "text/plain": [
       "<Figure size 1008x144 with 2 Axes>"
      ]
     },
     "metadata": {
      "needs_background": "light"
     },
     "output_type": "display_data"
    }
   ],
   "source": [
    "fig, ax = plt.subplots(1,2, figsize=(14,2))\n",
    "\n",
    "x = np.linspace(0,1500,1000)\n",
    "\n",
    "ax[0].hist(lam, bins=50, color=\"#009900\", edgecolor=\"#44FF44\", density=True)\n",
    "ax[0].plot(x,stats.norm.pdf(x,loc,scale), color='black')\n",
    "ax[0].set_xticks([0,223,1066])\n",
    "ax[0].set_yticks([])\n",
    "ax[0].set_title('Result')\n",
    "\n",
    "x = np.linspace(cinf_lambda[0]-hpd_width,cinf_lambda[1]+hpd_width,1000)\n",
    "\n",
    "ax[1].hist(lam, bins=50, color=\"#009900\", edgecolor=\"#44FF44\", density=True)\n",
    "ax[1].plot(x,stats.norm.pdf(x,loc,scale), color='black')\n",
    "ax[1].plot([cinf_lambda[0],cinf_lambda[0]],[0,0.1],color='black')\n",
    "ax[1].plot([cinf_lambda[1],cinf_lambda[1]],[0,0.1],color='black')\n",
    "ax[1].set_xticks(cinf_lambda[0:2])\n",
    "ax[1].set_yticks([])\n",
    "ax[1].set_title('Close-up (with 90% interval marked)')\n",
    "\n",
    "plt.show()"
   ]
  },
  {
   "cell_type": "markdown",
   "metadata": {},
   "source": [
    "Then, I tried to predict daeth rate from the newest model:"
   ]
  },
  {
   "cell_type": "code",
   "execution_count": 24,
   "metadata": {},
   "outputs": [
    {
     "name": "stdout",
     "output_type": "stream",
     "text": [
      "Mean (predicted number of accidents):\t692.0\n",
      "Interval:\t[621.0\t762.0]\n"
     ]
    }
   ],
   "source": [
    "predict_mean = np.median(y_sim.flatten())\n",
    "predict_interval = az.hpd(y_sim.flatten(), 0.99)\n",
    "print('Mean (predicted number of accidents):\\t' + str(predict_mean))\n",
    "print(\"Interval:\\t[\" + str(predict_interval[0]) + '\\t' + str(predict_interval[1]) + ']')"
   ]
  },
  {
   "cell_type": "markdown",
   "metadata": {},
   "source": [
    "The actual number of deaths in 1986 was 546, so the result I've got from the created model isn't correct.\n",
    "\n",
    "The reason is probably the fact, that I've created the model only based on number of deaths over the years. The rest of columns in given dataframe (distance flown, count of flights, etc.) also affects the value in the real world, so consideration of those might be crucial.\n",
    "\n",
    "On the other hand, I'm happy that in this case I've faced an overgrowth ;)"
   ]
  },
  {
   "cell_type": "markdown",
   "metadata": {},
   "source": [
    "<h1>Exrecise 2</h1>\n",
    "\n",
    "This time the intensity is constant, and the rate is a product of intensity and miles, so the Poisson distribution is needed once again."
   ]
  },
  {
   "cell_type": "code",
   "execution_count": 25,
   "metadata": {},
   "outputs": [
    {
     "data": {
      "text/plain": [
       "0.126"
      ]
     },
     "execution_count": 25,
     "metadata": {},
     "output_type": "execute_result"
    }
   ],
   "source": [
    "intensity = np.mean(df['Death rate'])\n",
    "intensity"
   ]
  },
  {
   "cell_type": "code",
   "execution_count": 26,
   "metadata": {},
   "outputs": [],
   "source": [
    "min_limit = 223/intensity\n",
    "max_limit = 1066/intensity"
   ]
  },
  {
   "cell_type": "markdown",
   "metadata": {},
   "source": [
    "I've used the model from the first part of the first exercise."
   ]
  },
  {
   "cell_type": "code",
   "execution_count": 27,
   "metadata": {},
   "outputs": [
    {
     "name": "stderr",
     "output_type": "stream",
     "text": [
      "INFO:pystan:COMPILING THE C++ CODE FOR MODEL anon_model_a150d842f36d5ed84746f1777fd72d1f NOW.\n"
     ]
    }
   ],
   "source": [
    "model = pystan.StanModel('Tune_4_1_1.stan')"
   ]
  },
  {
   "cell_type": "code",
   "execution_count": 28,
   "metadata": {},
   "outputs": [
    {
     "name": "stdout",
     "output_type": "stream",
     "text": [
      "5115.0 1438.0\n"
     ]
    }
   ],
   "source": [
    "data = dict(y_guess=np.array([6700,2000]), theta=np.array([max_limit, min_limit]))\n",
    "\n",
    "data_tuned = model.sampling(data=data, seed=1052020, algorithm = \"Fixed_param\", iter=1, warmup=0, chains=1)\n",
    "\n",
    "loc = np.round(data_tuned.extract()['loc'][0])\n",
    "scale = np.round(data_tuned.extract()['scale'][0])\n",
    "\n",
    "print(loc, scale)"
   ]
  },
  {
   "cell_type": "markdown",
   "metadata": {},
   "source": [
    "I've drawn a plot showing the Poisson distribution in this case."
   ]
  },
  {
   "cell_type": "code",
   "execution_count": 29,
   "metadata": {},
   "outputs": [
    {
     "data": {
      "image/png": "[encoded data removed]",
      "text/plain": [
       "<Figure size 504x288 with 1 Axes>"
      ]
     },
     "metadata": {
      "needs_background": "light"
     },
     "output_type": "display_data"
    }
   ],
   "source": [
    "fig, ax4 = plt.subplots(1,1,figsize=(7,4))\n",
    "x1 = np.linspace(0,6*scale,1000)\n",
    "x2 = np.linspace(min_limit,max_limit,1000)\n",
    "\n",
    "ax4.plot(x1,stats.norm.pdf(x1,loc=loc,scale=scale),color=\"#449944\")\n",
    "ax4.fill_between(x2,stats.norm.pdf(x2,loc=loc,scale=scale),0,color=\"#009900\")\n",
    "ax4.set_yticks([])\n",
    "ax4.set_xticks([min_limit, max_limit])\n",
    "plt.show()"
   ]
  },
  {
   "cell_type": "markdown",
   "metadata": {},
   "source": [
    "<h3>Prior predictive distribution</h3>\n",
    "\n",
    "Another time, I've used it to simulated parameters based just on prior info."
   ]
  },
  {
   "cell_type": "code",
   "execution_count": 30,
   "metadata": {},
   "outputs": [
    {
     "name": "stdout",
     "output_type": "stream",
     "text": [
      "data {\n",
      "  int Y;\n",
      "  vector<lower=0>[Y] death_rate\n",
      "}\n",
      "\n",
      "generated quantities {\n",
      "  real lambda = normal_rng(5115,1438);\n",
      "  int y_sim[Y];\n",
      "  for (i in 1:Y) {\n",
      "    y_sim[i] = poisson_rng(lambda*death_rate[i]);\n",
      "  }\n",
      "}\n"
     ]
    }
   ],
   "source": [
    "with open('Tune_4_2_1.stan','r') as file:\n",
    "    print(file.read())"
   ]
  },
  {
   "cell_type": "code",
   "execution_count": 32,
   "metadata": {},
   "outputs": [
    {
     "name": "stderr",
     "output_type": "stream",
     "text": [
      "INFO:pystan:COMPILING THE C++ CODE FOR MODEL anon_model_9175a9312f4425810ce180e93843295d NOW.\n"
     ]
    }
   ],
   "source": [
    "model = pystan.StanModel('Tune_4_2_1.stan')"
   ]
  },
  {
   "cell_type": "markdown",
   "metadata": {},
   "source": [
    "I've used generated model to extract generated output parameters."
   ]
  },
  {
   "cell_type": "code",
   "execution_count": 33,
   "metadata": {},
   "outputs": [],
   "source": [
    "data = dict(Y=len(df), death_rate=df['Death rate'].to_numpy())\n",
    "\n",
    "data_tuned = model.sampling(data=data, algorithm=\"Fixed_param\",iter=500, warmup=0, chains=1,seed=1052020)\n",
    "\n",
    "lam = data_tuned.extract()['lambda']\n",
    "y_sim = data_tuned.extract()['y_sim']"
   ]
  },
  {
   "cell_type": "code",
   "execution_count": 35,
   "metadata": {},
   "outputs": [
    {
     "data": {
      "image/png": "[encoded data removed]",
      "text/plain": [
       "<Figure size 1008x720 with 10 Axes>"
      ]
     },
     "metadata": {
      "needs_background": "light"
     },
     "output_type": "display_data"
    }
   ],
   "source": [
    "fig, axes = plt.subplots(5,2,figsize=(14,10), squeeze=False, sharey=True)\n",
    "axes = axes.flatten()\n",
    "\n",
    "for i in range(len(axes)):\n",
    "    ax = axes[i]\n",
    "    ax.hist(y_sim[:,i], bins=50,color=\"#009900\", edgecolor= \"#449944\", density=True)\n",
    "    ax.set_title(df['Year'][i])\n",
    "    true_val = df['Passenger deaths'].iloc[i]\n",
    "    ax.plot([true_val,true_val],[0,0.01])\n",
    "    ax.set_yticks([])\n",
    "    ax.set_xticks([0, true_val])\n",
    "    ax.set_ylim([0,0.01])\n",
    "\n",
    "fig.tight_layout()\n",
    "plt.show()"
   ]
  },
  {
   "cell_type": "markdown",
   "metadata": {},
   "source": [
    "<h3>Posterior interference nd posterior predictive checks</h3>\n",
    "\n",
    "I've created stan file, with is presented below, to go through analogic simulation as in exercise 1."
   ]
  },
  {
   "cell_type": "code",
   "execution_count": 36,
   "metadata": {},
   "outputs": [
    {
     "name": "stdout",
     "output_type": "stream",
     "text": [
      "data {\n",
      "  int Years;\n",
      "  int Deaths[Years];\n",
      "  vector[Years] death_rate;\n",
      "}\n",
      "parameters {\n",
      "  real<lower=0> lambda;\n",
      "}\n",
      "model {\n",
      "  lambda ~ normal(5115,1438);\n",
      "  for (i in 1:Years) {\n",
      "    Deaths[i] ~ poisson(death_rate[i]*lambda);\n",
      "  }\n",
      "}\n",
      "generated quantities {\n",
      "  int y_sim[Years];\n",
      "  for (i in 1:Years) {\n",
      "    y_sim[i] = poisson_rng(death_rate[i]*lambda);\n",
      "  }\n",
      "}\n"
     ]
    }
   ],
   "source": [
    "with open('Tune_4_2_2.stan','r') as file:\n",
    "    print(file.read())"
   ]
  },
  {
   "cell_type": "code",
   "execution_count": 37,
   "metadata": {},
   "outputs": [
    {
     "name": "stderr",
     "output_type": "stream",
     "text": [
      "INFO:pystan:COMPILING THE C++ CODE FOR MODEL anon_model_fd3e7cd675db05f5ee2ed19cabee1980 NOW.\n"
     ]
    }
   ],
   "source": [
    "model = pystan.StanModel('Tune_4_2_2.stan')"
   ]
  },
  {
   "cell_type": "code",
   "execution_count": 38,
   "metadata": {},
   "outputs": [],
   "source": [
    "data = dict(Years = len(df), Deaths = df['Passenger deaths'], death_rate = df['Death rate'].to_numpy())\n",
    "data_tuned = model.sampling(data=data, seed=1052020)"
   ]
  },
  {
   "cell_type": "markdown",
   "metadata": {},
   "source": [
    "The mean I've calculated from extracted data (along with 90% conf. interval):"
   ]
  },
  {
   "cell_type": "code",
   "execution_count": 39,
   "metadata": {},
   "outputs": [],
   "source": [
    "lam = data_tuned.extract()['lambda']\n",
    "y_sim = data_tuned.extract()['y_sim']"
   ]
  },
  {
   "cell_type": "code",
   "execution_count": 40,
   "metadata": {},
   "outputs": [],
   "source": [
    "mean_lam = np.mean(lam)\n",
    "cinf_lam = az.hpd(lam,0.9)\n",
    "hpd_width = cinf_lam[1] - cinf_lam[0]"
   ]
  },
  {
   "cell_type": "code",
   "execution_count": 41,
   "metadata": {},
   "outputs": [
    {
     "name": "stdout",
     "output_type": "stream",
     "text": [
      "Mean lambda:\t692.0416166194061\n",
      "90% conf. interval:\t[679.2454280192097\t706.1549302421664]\n"
     ]
    }
   ],
   "source": [
    "print(\"Mean lambda:\\t\" + str(mean_lambda))\n",
    "print(\"90% conf. interval:\\t[\" + str(cinf_lambda[0]) + '\\t'+ str(cinf_lambda[1]) + ']')"
   ]
  },
  {
   "cell_type": "markdown",
   "metadata": {},
   "source": [
    "Here's are the histograms presenting changes of the lambda value in each year, with marked ticks of actual value:"
   ]
  },
  {
   "cell_type": "code",
   "execution_count": 44,
   "metadata": {
    "scrolled": true
   },
   "outputs": [
    {
     "data": {
      "image/png": "[encoded data removed]",
      "text/plain": [
       "<Figure size 1008x720 with 10 Axes>"
      ]
     },
     "metadata": {
      "needs_background": "light"
     },
     "output_type": "display_data"
    }
   ],
   "source": [
    "fig, axes = plt.subplots(5,2,figsize=(14,10), squeeze=False, sharey=False)\n",
    "axes = axes.flatten()\n",
    "\n",
    "for i in range(len(axes)):\n",
    "    ax = axes[i]\n",
    "    ax.hist(y_sim[:,i], bins=50,color=\"#009900\",edgecolor=\"#449944\", density=True)\n",
    "    ax.set_title(df['Year'][i])\n",
    "    true_val = df['Passenger deaths'].iloc[i]\n",
    "    ax.plot([true_val,true_val],[0,0.05], color='black')\n",
    "    ax.set_xticks([0, true_val])\n",
    "    ax.set_ylim([0,0.05])\n",
    "\n",
    "fig.tight_layout()\n",
    "\n",
    "plt.show()"
   ]
  },
  {
   "cell_type": "markdown",
   "metadata": {},
   "source": [
    "<h3>Prediction </h3>\n",
    "\n",
    "The real number of passenger deaths in 1986 was 546. There were 22 fatal accidents, so the death rate in this year was 0.06 (per 100 mln miles flown).\n",
    "\n",
    "With all this data gathered, I've used the stan file attached below to generate final model for this exercise:"
   ]
  },
  {
   "cell_type": "code",
   "execution_count": 45,
   "metadata": {},
   "outputs": [
    {
     "name": "stdout",
     "output_type": "stream",
     "text": [
      "data {\n",
      "  int Years;\n",
      "  int Deaths[Years];\n",
      "  vector[Years] death_rate;\n",
      "}\n",
      "parameters {\n",
      "  real<lower=0> lambda;\n",
      "}\n",
      "model {\n",
      "  lambda ~ normal(5115,1438);\n",
      "  for (i in 1:Years) {\n",
      "    Deaths[i] ~ poisson(death_rate[i]*lambda);\n",
      "  }\n",
      "}\n",
      "generated quantities {\n",
      "  int y_1986 = poisson_rng(0.06*lambda);\n",
      "}\n"
     ]
    }
   ],
   "source": [
    "with open('Tune_4_2_3.stan','r') as file:\n",
    "    print(file.read())"
   ]
  },
  {
   "cell_type": "code",
   "execution_count": 46,
   "metadata": {},
   "outputs": [
    {
     "name": "stderr",
     "output_type": "stream",
     "text": [
      "INFO:pystan:COMPILING THE C++ CODE FOR MODEL anon_model_2022f101a98159f7317e8321f982a9d2 NOW.\n"
     ]
    }
   ],
   "source": [
    "model = pystan.StanModel('Tune_4_2_3.stan')"
   ]
  },
  {
   "cell_type": "markdown",
   "metadata": {},
   "source": [
    "I didn't need to change the data dictionary, so I used the previous one once again.\n",
    "\n",
    "I've also used 99% confidence interval in this case."
   ]
  },
  {
   "cell_type": "code",
   "execution_count": 47,
   "metadata": {},
   "outputs": [],
   "source": [
    "result = model.sampling(data=data)\n",
    "\n",
    "lam = result.extract()['lambda']\n",
    "y_1986 = result.extract()['y_1986']\n",
    "\n",
    "median_1986 = np.median(y_1986)\n",
    "interval_1986 = az.hpd(y_1986, 0.99)"
   ]
  },
  {
   "cell_type": "code",
   "execution_count": 49,
   "metadata": {},
   "outputs": [
    {
     "name": "stdout",
     "output_type": "stream",
     "text": [
      "Median lambda:\t329.0\n",
      "99% conf. interval:\t[287.0\t375.0]\n"
     ]
    }
   ],
   "source": [
    "print(\"Median lambda:\\t\" + str(median_1986))\n",
    "print(\"99% conf. interval:\\t[\" + str(interval_1986[0]) + '\\t'+ str(interval_1986[1]) + ']')"
   ]
  },
  {
   "cell_type": "markdown",
   "metadata": {},
   "source": [
    "The result - predicted distribution histogram - is presented below:"
   ]
  },
  {
   "cell_type": "code",
   "execution_count": 52,
   "metadata": {},
   "outputs": [
    {
     "data": {
      "image/png": "[encoded data removed]",
      "text/plain": [
       "<Figure size 504x288 with 1 Axes>"
      ]
     },
     "metadata": {
      "needs_background": "light"
     },
     "output_type": "display_data"
    }
   ],
   "source": [
    "fig, ax5 = plt.subplots(1,1,figsize=(7,4))\n",
    "ax5.hist(y_1986, bins=50,color=\"#009900\",edgecolor=\"#449944\",density=True)\n",
    "ax5.set_title('1986')\n",
    "ax5.plot([546,546],[0,0.07],color='black')\n",
    "ax5.set_ylim([0,0.07])\n",
    "\n",
    "plt.show()"
   ]
  },
  {
   "cell_type": "markdown",
   "metadata": {},
   "source": [
    "Predicted value of deaths is this time much lower, than the real value. It is the fault of low death rate, which I took as main reference in prediction. The accurate value isn't even in the 99% interval."
   ]
  },
  {
   "cell_type": "markdown",
   "metadata": {},
   "source": [
    "<h3>Conclusions:</h3>\n",
    "\n",
    "Stan is a very useful tool in such kind of predictions. Lack of accuraccy might be a fault of amount of data we have to work with - it is always better to work with as much accurate data as possible. Another reason might be my lack of expertise, but after completing this exercise my experience with prediction surely has grown."
   ]
  }
 ],
 "metadata": {
  "kernelspec": {
   "display_name": "Python 3",
   "language": "python",
   "name": "python3"
  },
  "language_info": {
   "codemirror_mode": {
    "name": "ipython",
    "version": 3
   },
   "file_extension": ".py",
   "mimetype": "text/x-python",
   "name": "python",
   "nbconvert_exporter": "python",
   "pygments_lexer": "ipython3",
   "version": "3.7.4"
  }
 },
 "nbformat": 4,
 "nbformat_minor": 2
}
